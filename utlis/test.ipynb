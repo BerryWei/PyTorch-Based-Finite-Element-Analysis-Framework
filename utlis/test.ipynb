{
 "cells": [
  {
   "cell_type": "code",
   "execution_count": 1,
   "metadata": {},
   "outputs": [
    {
     "name": "stderr",
     "output_type": "stream",
     "text": [
      "c:\\Users\\Berry\\.conda\\envs\\dmn\\lib\\site-packages\\tqdm\\auto.py:22: TqdmWarning: IProgress not found. Please update jupyter and ipywidgets. See https://ipywidgets.readthedocs.io/en/stable/user_install.html\n",
      "  from .autonotebook import tqdm as notebook_tqdm\n"
     ]
    }
   ],
   "source": [
    "import torch"
   ]
  },
  {
   "cell_type": "code",
   "execution_count": 6,
   "metadata": {},
   "outputs": [
    {
     "data": {
      "text/plain": [
       "(tensor([[-0.5000,  0.0000,  0.5000,  0.0000,  0.0000,  0.0000],\n",
       "         [ 0.0000, -0.1667,  0.0000, -0.1667,  0.0000,  0.3333],\n",
       "         [-0.1667, -0.5000, -0.1667,  0.5000,  0.3333,  0.0000]],\n",
       "        device='cuda:0'),\n",
       " tensor([[-0.5000,  0.0000,  0.5000,  0.0000,  0.0000,  0.0000],\n",
       "         [ 0.0000, -0.1667,  0.0000, -0.1667,  0.0000,  0.3333],\n",
       "         [-0.1667, -0.5000, -0.1667,  0.5000,  0.3333,  0.0000]],\n",
       "        device='cuda:0'),\n",
       " True)"
      ]
     },
     "execution_count": 6,
     "metadata": {},
     "output_type": "execute_result"
    }
   ],
   "source": [
    "import torch\n",
    "\n",
    "# Base class definition for demonstration\n",
    "class BaseElement:\n",
    "    pass\n",
    "\n",
    "# Provided code for TriangularElement\n",
    "class TriangularElement(BaseElement):\n",
    "    element_dof = 6\n",
    "    node_per_element = 3\n",
    "\n",
    "    @staticmethod\n",
    "    def shape_functions(natural_coords: torch.Tensor, device='cuda') -> torch.Tensor:\n",
    "        xi, eta = natural_coords\n",
    "        N = torch.tensor([xi, eta, 1 - xi - eta]).to(device)\n",
    "        return N\n",
    "\n",
    "    @staticmethod\n",
    "    def shape_function_derivatives(device='cuda') -> torch.Tensor:\n",
    "        dN_dxi = torch.tensor([1, 0, -1], device=device)\n",
    "        dN_deta = torch.tensor([0, 1, -1], device=device)\n",
    "        dN = torch.stack((dN_dxi, dN_deta), dim=0)\n",
    "        return dN\n",
    "\n",
    "    @staticmethod\n",
    "    def compute_B_matrix_legacy(node_coords: torch.Tensor, device='cuda') -> torch.Tensor:\n",
    "        if len(node_coords.shape) != 2 or node_coords.shape[0] != 3 or node_coords.shape[1] != 2:\n",
    "            raise ValueError(\"node_coords shape should be (3, 2) for a single triangle\")\n",
    "        x1, y1 = node_coords[0]\n",
    "        x2, y2 = node_coords[1]\n",
    "        x3, y3 = node_coords[2]\n",
    "        A = 0.5 * (x1*(y2 - y3) + x2*(y3 - y1) + x3*(y1 - y2))\n",
    "        if abs(A) < 1e-10:\n",
    "            raise ValueError(\"The provided node coordinates result in a degenerate triangle with almost zero area.\")\n",
    "        b1 = (y2 - y3) / (2*A)\n",
    "        b2 = (y3 - y1) / (2*A)\n",
    "        b3 = (y1 - y2) / (2*A)\n",
    "        c1 = (x3 - x2) / (2*A)\n",
    "        c2 = (x1 - x3) / (2*A)\n",
    "        c3 = (x2 - x1) / (2*A)\n",
    "        B = torch.tensor([\n",
    "            [b1, 0, b2, 0, b3, 0],\n",
    "            [0, c1, 0, c2, 0, c3],\n",
    "            [c1, b1, c2, b2, c3, b3]\n",
    "        ], dtype=torch.float).to(device)\n",
    "        return B\n",
    "\n",
    "# Modified code for T3Element\n",
    "class T3Element:\n",
    "    element_dof = 6\n",
    "    node_per_element = 3\n",
    "\n",
    "    @staticmethod\n",
    "    def shape_functions(natural_coords: torch.Tensor, device='cuda') -> torch.Tensor:\n",
    "        xi, eta = natural_coords\n",
    "        N = torch.tensor([1 - xi - eta, xi, eta]).to(device)\n",
    "        return N\n",
    "\n",
    "    @staticmethod\n",
    "    def shape_function_derivatives(device='cuda') -> torch.Tensor:\n",
    "        dN_dxi = torch.tensor([-1, 1, 0], device=device, dtype=torch.float)\n",
    "        dN_deta = torch.tensor([-1, 0, 1], device=device, dtype=torch.float)\n",
    "        dN = torch.stack((dN_dxi, dN_deta), dim=0)\n",
    "        return dN\n",
    "\n",
    "    @staticmethod\n",
    "    def compute_B_matrix(node_coords: torch.Tensor, device='cuda') -> torch.Tensor:\n",
    "        dN_dxi = T3Element.shape_function_derivatives(device)\n",
    "        J = torch.mm(dN_dxi, node_coords)\n",
    "        detJ = torch.det(J)\n",
    "        if detJ == 0:\n",
    "            raise ValueError(\"The Jacobian is singular\")\n",
    "        inv_J = torch.inverse(J)\n",
    "        dN_dxy = torch.mm(inv_J, dN_dxi)\n",
    "        B = torch.zeros(3, 6, device=device)\n",
    "        B[0, 0::2] = dN_dxy[0, :]\n",
    "        B[1, 1::2] = dN_dxy[1, :]\n",
    "        B[2, 0::2] = dN_dxy[1, :]\n",
    "        B[2, 1::2] = dN_dxy[0, :]\n",
    "        return B\n",
    "\n",
    "# Generate test data\n",
    "node_coords = torch.tensor([[1.0, 1.0], [3.0, 1.0], [2.0, 4.0]], device='cuda')\n",
    "natural_coords = torch.tensor([0.2, 0.3], device='cuda')\n",
    "\n",
    "# Compute B-matrix using both classes\n",
    "B_T3 = T3Element.compute_B_matrix(node_coords)\n",
    "B_Triangular = TriangularElement.compute_B_matrix_legacy(node_coords)\n",
    "\n",
    "# Display the results\n",
    "B_T3, B_Triangular, torch.allclose(B_T3, B_Triangular)\n"
   ]
  },
  {
   "cell_type": "code",
   "execution_count": 10,
   "metadata": {},
   "outputs": [
    {
     "data": {
      "text/plain": [
       "(array([-0.57735027,  0.57735027]), array([1., 1.]))"
      ]
     },
     "execution_count": 10,
     "metadata": {},
     "output_type": "execute_result"
    }
   ],
   "source": [
    "import numpy as np\n",
    "from scipy.special import roots_legendre, eval_legendre\n",
    "roots_legendre(2)"
   ]
  },
  {
   "cell_type": "code",
   "execution_count": null,
   "metadata": {},
   "outputs": [],
   "source": []
  }
 ],
 "metadata": {
  "kernelspec": {
   "display_name": "dmn",
   "language": "python",
   "name": "python3"
  },
  "language_info": {
   "codemirror_mode": {
    "name": "ipython",
    "version": 3
   },
   "file_extension": ".py",
   "mimetype": "text/x-python",
   "name": "python",
   "nbconvert_exporter": "python",
   "pygments_lexer": "ipython3",
   "version": "3.9.16"
  }
 },
 "nbformat": 4,
 "nbformat_minor": 2
}
